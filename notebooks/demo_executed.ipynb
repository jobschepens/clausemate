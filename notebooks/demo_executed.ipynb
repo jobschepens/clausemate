{
 "cells": [
  {
   "cell_type": "markdown",
   "metadata": {},
   "source": [
    "# ClauseMate Demo: German Pronoun Analysis\n",
    "\n",
    "This notebook demonstrates the ClauseMate tool for analyzing German pronoun clause mate relationships.\n",
    "\n",
    "## Overview\n",
    "\n",
    "ClauseMate identifies critical pronouns (personal, demonstrative, and d-pronouns) and extracts their relationships with other referential expressions in the same sentence."
   ]
  },
  {
   "cell_type": "code",
   "execution_count": 1,
   "metadata": {
    "execution": {
     "iopub.execute_input": "2025-08-27T21:02:20.033091Z",
     "iopub.status.busy": "2025-08-27T21:02:20.032418Z",
     "iopub.status.idle": "2025-08-27T21:02:21.530067Z",
     "shell.execute_reply": "2025-08-27T21:02:21.527878Z"
    }
   },
   "outputs": [
    {
     "name": "stdout",
     "output_type": "stream",
     "text": [
      "✅ ClauseMate already installed!\n"
     ]
    },
    {
     "name": "stdout",
     "output_type": "stream",
     "text": [
      "✅ ClauseMate modules imported successfully!\n"
     ]
    }
   ],
   "source": [
    "# Install and Import ClauseMate\n",
    "\n",
    "import os\n",
    "import sys\n",
    "import subprocess\n",
    "\n",
    "# Install ClauseMate in Binder environment\n",
    "try:\n",
    "    # Check if already installed\n",
    "    import src.main\n",
    "    print(\"✅ ClauseMate already installed!\")\n",
    "except ImportError:\n",
    "    print(\"📦 Installing ClauseMate...\")\n",
    "    subprocess.check_call([sys.executable, \"-m\", \"pip\", \"install\", \"-e\", \".\"])\n",
    "    print(\"✅ ClauseMate installed successfully!\")\n",
    "\n",
    "import pandas as pd\n",
    "\n",
    "# Import ClauseMate modules with error handling\n",
    "try:\n",
    "    from src.main import ClauseMateAnalyzer\n",
    "    from src.multi_file.multi_file_batch_processor import MultiFileBatchProcessor\n",
    "    print(\"✅ ClauseMate modules imported successfully!\")\n",
    "except ImportError as e:\n",
    "    print(f\"❌ Import error: {e}\")\n",
    "    print(\"💡 Make sure you're running from the project root directory.\")\n",
    "    print(\"   Try: pip install -e .\")\n",
    "    raise"
   ]
  },
  {
   "cell_type": "markdown",
   "metadata": {},
   "source": [
    "## Single File Analysis\n",
    "\n",
    "Let's analyze a single TSV file to see how the tool works:"
   ]
  },
  {
   "cell_type": "code",
   "execution_count": 2,
   "metadata": {
    "execution": {
     "iopub.execute_input": "2025-08-27T21:02:21.536873Z",
     "iopub.status.busy": "2025-08-27T21:02:21.536289Z",
     "iopub.status.idle": "2025-08-27T21:02:21.548325Z",
     "shell.execute_reply": "2025-08-27T21:02:21.546745Z"
    }
   },
   "outputs": [
    {
     "name": "stderr",
     "output_type": "stream",
     "text": [
      "2025-08-27 21:02:21,540 - INFO - Adaptive parsing enabled - will auto-detect file formats\n"
     ]
    },
    {
     "name": "stdout",
     "output_type": "stream",
     "text": [
      "⚠️ Sample data not available in this environment\n",
      "💡 In a full setup, you would see detailed pronoun analysis results here\n"
     ]
    }
   ],
   "source": [
    "# Initialize the analyzer with adaptive parsing\n",
    "analyzer = ClauseMateAnalyzer(enable_adaptive_parsing=True)\n",
    "\n",
    "# Check if sample data exists\n",
    "sample_file = \"data/input/gotofiles/2.tsv\"\n",
    "if os.path.exists(sample_file):\n",
    "    print(f\"📁 Analyzing file: {sample_file}\")\n",
    "\n",
    "    # Perform analysis\n",
    "    relationships = analyzer.analyze_file(sample_file)\n",
    "\n",
    "    print(f\"🔍 Found {len(relationships)} clause mate relationships\")\n",
    "\n",
    "    # Display first few relationships\n",
    "    if relationships:\n",
    "        df = pd.DataFrame([rel.to_dict() for rel in relationships[:5]])\n",
    "        print(\"\\n📊 Sample relationships:\")\n",
    "        display(df)\n",
    "    else:\n",
    "        print(\"⚠️ Sample data not available in this environment\")\n",
    "        print(\"💡 In a full setup, you would see detailed pronoun analysis results here\")\n",
    "else:\n",
    "    print(\"⚠️ Sample data not available in this environment\")\n",
    "    print(\"💡 In a full setup, you would see detailed pronoun analysis results here\")"
   ]
  },
  {
   "cell_type": "markdown",
   "metadata": {},
   "source": [
    "## Multi-File Processing\n",
    "\n",
    "ClauseMate can process multiple files and resolve cross-chapter coreference chains:"
   ]
  },
  {
   "cell_type": "code",
   "execution_count": 3,
   "metadata": {
    "execution": {
     "iopub.execute_input": "2025-08-27T21:02:21.551565Z",
     "iopub.status.busy": "2025-08-27T21:02:21.551349Z",
     "iopub.status.idle": "2025-08-27T21:02:21.561701Z",
     "shell.execute_reply": "2025-08-27T21:02:21.559148Z"
    }
   },
   "outputs": [
    {
     "name": "stderr",
     "output_type": "stream",
     "text": [
      "2025-08-27 21:02:21,553 - INFO - UnifiedSentenceManager initialized\n"
     ]
    },
    {
     "name": "stderr",
     "output_type": "stream",
     "text": [
      "2025-08-27 21:02:21,553 - INFO - CrossFileCoreferenceResolver initialized\n"
     ]
    },
    {
     "name": "stderr",
     "output_type": "stream",
     "text": [
      "2025-08-27 21:02:21,555 - INFO - MultiFileBatchProcessor initialized with cross-chapter resolution: True\n"
     ]
    },
    {
     "name": "stdout",
     "output_type": "stream",
     "text": [
      "⚠️ Data directory not available in this environment\n",
      "💡 In a full setup, you would see unified multi-file analysis results here\n"
     ]
    }
   ],
   "source": [
    "# Initialize multi-file processor\n",
    "processor = MultiFileBatchProcessor()\n",
    "\n",
    "# Check if data directory exists\n",
    "data_dir = \"data/input/gotofiles\"\n",
    "if os.path.exists(data_dir):\n",
    "    print(f\"📁 Processing directory: {data_dir}\")\n",
    "\n",
    "    # Process all files\n",
    "    result = processor.process_files(data_dir)\n",
    "\n",
    "    print(f\"📊 Total relationships: {len(result.unified_relationships)}\")\n",
    "    print(f\"🔗 Cross-chapter chains: {len(result.cross_chapter_chains)}\")\n",
    "    print(f\"📚 Chapters processed: {len(result.chapter_info)}\")\n",
    "\n",
    "    # Show statistics\n",
    "    for chapter, info in result.chapter_info.items():\n",
    "        print(f\"  📖 {chapter}: {info['relationships']} relationships\")\n",
    "\n",
    "else:\n",
    "    print(\"⚠️ Data directory not available in this environment\")\n",
    "    print(\"💡 In a full setup, you would see unified multi-file analysis results here\")"
   ]
  },
  {
   "cell_type": "markdown",
   "metadata": {},
   "source": [
    "## Critical Pronouns Analyzed\n",
    "\n",
    "ClauseMate focuses on these German pronoun types:\n",
    "\n",
    "- **Third person personal**: er, sie, es, ihm, ihr, ihn, ihnen\n",
    "- **D-pronouns (pronominal)**: der, die, das, dem, den, deren, dessen, derer\n",
    "- **Demonstrative**: dieser, diese, dieses, diesem, diesen"
   ]
  },
  {
   "cell_type": "code",
   "execution_count": 4,
   "metadata": {
    "execution": {
     "iopub.execute_input": "2025-08-27T21:02:21.564700Z",
     "iopub.status.busy": "2025-08-27T21:02:21.564500Z",
     "iopub.status.idle": "2025-08-27T21:02:21.568779Z",
     "shell.execute_reply": "2025-08-27T21:02:21.568093Z"
    }
   },
   "outputs": [
    {
     "name": "stdout",
     "output_type": "stream",
     "text": [
      "🎯 Critical pronouns analyzed by ClauseMate:\n",
      "\n",
      "📝 Third Person Personal:\n",
      "   ihnen, ihn, ihm, es, er, ihr, sie\n",
      "\n",
      "📝 D Pronouns:\n",
      "   der, deren, den, dem, dessen, derer, die, das\n",
      "\n",
      "📝 Demonstrative:\n",
      "   diesen, diesem, dieses, diese, dieser\n"
     ]
    }
   ],
   "source": [
    "# Show the pronoun configuration\n",
    "from src.config import CRITICAL_PRONOUNS\n",
    "\n",
    "print(\"🎯 Critical pronouns analyzed by ClauseMate:\")\n",
    "for category, pronouns in CRITICAL_PRONOUNS.items():\n",
    "    print(f\"\\n📝 {category.replace('_', ' ').title()}:\")\n",
    "    print(f\"   {', '.join(pronouns)}\")"
   ]
  },
  {
   "cell_type": "markdown",
   "metadata": {},
   "source": [
    "## Try It Yourself!\n",
    "\n",
    "This notebook provides a starting point for exploring ClauseMate's capabilities. You can:\n",
    "\n",
    "1. **Upload your own TSV files** in WebAnno TSV 3.3 format\n",
    "2. **Modify analysis parameters** in the code above\n",
    "3. **Explore the visualization scripts** in the `scripts/` directory\n",
    "4. **Run the full test suite** to understand the codebase\n",
    "\n",
    "For more information, see the [project documentation](../README.md)."
   ]
  }
 ],
 "metadata": {
  "kernelspec": {
   "display_name": "Python 3",
   "language": "python",
   "name": "python3"
  },
  "language_info": {
   "codemirror_mode": {
    "name": "ipython",
    "version": 3
   },
   "file_extension": ".py",
   "mimetype": "text/x-python",
   "name": "python",
   "nbconvert_exporter": "python",
   "pygments_lexer": "ipython3",
   "version": "3.11.13"
  }
 },
 "nbformat": 4,
 "nbformat_minor": 4
}
