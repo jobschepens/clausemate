{
 "cells": [
  {
   "cell_type": "markdown",
   "id": "893dbcea",
   "metadata": {},
   "source": [
    "# ClauseMate: German Clause Mate Analysis Demo\n",
    "\n",
    "This notebook demonstrates ClauseMate's capabilities for analyzing pronoun-clause mate relationships in German linguistic data.\n",
    "\n",
    "## What is ClauseMate?\n",
    "ClauseMate is a research tool that investigates whether pronouns appear at more consistent linear positions when clause mates are present vs. absent in German discourse.\n",
    "\n",
    "### Key Features:\n",
    "- **94.4% antecedent detection** across sentence boundaries\n",
    "- **Cross-sentence coreference tracking** with chain analysis  \n",
    "- **German-specific pronoun classification** (3rd person, D-pronouns, demonstratives)\n",
    "- **WebAnno TSV 3.3 format** support for linguistic annotations"
   ]
  },
  {
   "cell_type": "code",
   "execution_count": null,
   "id": "6a556195",
   "metadata": {},
   "outputs": [],
   "source": [
    "# Install ClauseMate in Binder environment\n",
    "import sys\n",
    "import subprocess\n",
    "\n",
    "# Install the package in editable mode\n",
    "subprocess.check_call([sys.executable, \"-m\", \"pip\", \"install\", \"-e\", \".\"])\n",
    "\n",
    "print(\"✓ ClauseMate installed successfully!\")"
   ]
  },
  {
   "cell_type": "code",
   "execution_count": null,
   "id": "8d51d1c4",
   "metadata": {},
   "outputs": [],
   "source": [
    "# Import ClauseMate modules\n",
    "try:\n",
    "    from src.main import main\n",
    "    from src.config import FilePaths, TSVColumns\n",
    "    from src.data.models import SentenceContext, Token\n",
    "    print(\"✓ ClauseMate modules imported successfully!\")\n",
    "except ImportError as e:\n",
    "    print(f\"❌ Import error: {e}\")\n",
    "    print(\"Make sure you're running from the project root directory.\")"
   ]
  },
  {
   "cell_type": "markdown",
   "id": "0fa649a0",
   "metadata": {},
   "source": [
    "## Demo Analysis\n",
    "\n",
    "Let's run ClauseMate on the sample data to demonstrate its linguistic analysis capabilities."
   ]
  },
  {
   "cell_type": "code",
   "execution_count": null,
   "id": "36b49f89",
   "metadata": {},
   "outputs": [],
   "source": [
    "# Check available sample data\n",
    "from pathlib import Path\n",
    "import os\n",
    "\n",
    "data_dir = Path(\"data/input/gotofiles\")\n",
    "if data_dir.exists():\n",
    "    tsv_files = list(data_dir.glob(\"*.tsv\"))\n",
    "    print(f\"Found {len(tsv_files)} TSV files for analysis:\")\n",
    "    for file in tsv_files[:3]:  # Show first 3\n",
    "        print(f\"  - {file.name}\")\n",
    "    \n",
    "    if tsv_files:\n",
    "        sample_file = tsv_files[0]\n",
    "        print(f\"\\nUsing sample file: {sample_file.name}\")\n",
    "    else:\n",
    "        print(\"❌ No TSV files found in data/input/gotofiles/\")\n",
    "else:\n",
    "    print(\"❌ Data directory not found. Binder environment may need data setup.\")"
   ]
  },
  {
   "cell_type": "code",
   "execution_count": null,
   "id": "e7d4026b",
   "metadata": {},
   "outputs": [],
   "source": [
    "# Run Phase 2 analysis (if data available)\n",
    "import subprocess\n",
    "import sys\n",
    "from pathlib import Path\n",
    "\n",
    "if Path(\"data/input/gotofiles\").exists() and list(Path(\"data/input/gotofiles\").glob(\"*.tsv\")):\n",
    "    try:\n",
    "        # Run the modular Phase 2 analysis\n",
    "        result = subprocess.run([\n",
    "            sys.executable, \"-m\", \"src.main\"\n",
    "        ], capture_output=True, text=True, timeout=60)\n",
    "        \n",
    "        if result.returncode == 0:\n",
    "            print(\"✓ Phase 2 analysis completed successfully!\")\n",
    "            print(\"\\nOutput preview:\")\n",
    "            print(result.stdout[-500:])  # Last 500 chars\n",
    "        else:\n",
    "            print(f\"❌ Analysis failed with return code {result.returncode}\")\n",
    "            print(f\"Error: {result.stderr}\")\n",
    "            \n",
    "    except subprocess.TimeoutExpired:\n",
    "        print(\"⏱️ Analysis timed out (60s limit in demo)\")\n",
    "    except Exception as e:\n",
    "        print(f\"❌ Unexpected error: {e}\")\n",
    "else:\n",
    "    print(\"⚠️ Skipping analysis - no sample data available in Binder environment\")\n",
    "    print(\"To run full analysis, upload TSV files to data/input/gotofiles/\")"
   ]
  },
  {
   "cell_type": "markdown",
   "id": "ee010205",
   "metadata": {},
   "source": [
    "## Understanding the Output\n",
    "\n",
    "ClauseMate generates CSV files with detailed linguistic relationships:\n",
    "\n",
    "### Key Columns:\n",
    "- **pronoun_text**: The critical pronoun being analyzed\n",
    "- **clause_mate_count**: Number of referential clause mates in same sentence  \n",
    "- **most_recent_antecedent_distance**: Linear distance to nearest mention in coreference chain\n",
    "- **first_antecedent_distance**: Distance to chain's initial mention\n",
    "- **givenness**: `neu` (first mention) vs `bekannt` (subsequent)\n",
    "- **animacy**: `anim` vs `inanim` coreference layers\n",
    "\n",
    "### Analysis Focus:\n",
    "The tool investigates linear position consistency of pronouns relative to clause mates in German discourse."
   ]
  },
  {
   "cell_type": "code",
   "execution_count": null,
   "id": "7fdf67d1",
   "metadata": {},
   "outputs": [],
   "source": [
    "# Show sample output structure (if available)\n",
    "from pathlib import Path\n",
    "import pandas as pd\n",
    "\n",
    "output_files = list(Path(\"data/output\").glob(\"*.csv\")) if Path(\"data/output\").exists() else []\n",
    "\n",
    "if output_files:\n",
    "    latest_output = max(output_files, key=lambda p: p.stat().st_mtime)\n",
    "    print(f\"Latest output file: {latest_output.name}\")\n",
    "    \n",
    "    # Show sample of results\n",
    "    df = pd.read_csv(latest_output)\n",
    "    print(f\"\\nDataset shape: {df.shape}\")\n",
    "    print(f\"\\nColumns: {list(df.columns)}\")\n",
    "    print(f\"\\nSample relationships:\")\n",
    "    print(df.head(3).to_string(index=False))\n",
    "    \n",
    "    # Basic statistics\n",
    "    print(f\"\\n📊 Quick Statistics:\")\n",
    "    print(f\"  - Total relationships: {len(df)}\")\n",
    "    print(f\"  - Unique pronouns: {df['pronoun_text'].nunique()}\")\n",
    "    print(f\"  - Avg clause mates: {df['clause_mate_count'].mean():.1f}\")\n",
    "    if 'most_recent_antecedent_distance' in df.columns:\n",
    "        print(f\"  - Avg antecedent distance: {df['most_recent_antecedent_distance'].mean():.1f}\")\n",
    "else:\n",
    "    print(\"No output files found. Run the analysis cell above first.\")"
   ]
  },
  {
   "cell_type": "markdown",
   "id": "e1ad3d98",
   "metadata": {},
   "source": [
    "## Next Steps\n",
    "\n",
    "To use ClauseMate with your own data:\n",
    "\n",
    "1. **Prepare TSV files** in WebAnno TSV 3.3 format with coreference annotations\n",
    "2. **Upload to `data/input/gotofiles/`** directory\n",
    "3. **Run analysis** using `python -m src.main` or the analysis cell above\n",
    "4. **Examine results** in `data/output/` CSV files\n",
    "\n",
    "### Development Environment\n",
    "For local development, use:\n",
    "```bash\n",
    "# Install dependencies\n",
    "pip install -e .[dev]\n",
    "\n",
    "# Run with nox task runner\n",
    "nox                    # lint + test\n",
    "nox -s test           # pytest only\n",
    "nox -s format         # format code\n",
    "\n",
    "# Manual execution\n",
    "python -m src.main    # Phase 2 (preferred)\n",
    "python src/run_phase2.py\n",
    "```\n",
    "\n",
    "### Research Applications\n",
    "ClauseMate supports German linguistic research on:\n",
    "- Pronoun resolution strategies\n",
    "- Discourse coherence patterns  \n",
    "- Referential accessibility hierarchies\n",
    "- Cross-sentence coreference tracking"
   ]
  }
 ],
 "metadata": {
  "kernelspec": {
   "display_name": "Python 3",
   "language": "python",
   "name": "python3"
  },
  "language_info": {
   "name": "python",
   "version": "3.8+"
  }
 },
 "nbformat": 4,
 "nbformat_minor": 5
}
