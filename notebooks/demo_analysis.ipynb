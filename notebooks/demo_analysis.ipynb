{
 "cells": [
  {
   "cell_type": "markdown",
   "metadata": {},
   "source": [
    "# ClauseMate Demo: German Pronoun Analysis\n",
    "\n",
    "This notebook demonstrates the ClauseMate tool for analyzing German pronoun clause mate relationships.\n",
    "\n",
    "## Overview\n",
    "\n",
    "ClauseMate identifies critical pronouns (personal, demonstrative, and d-pronouns) and extracts their relationships with other referential expressions in the same sentence."
   ]
  },
  {
   "cell_type": "code",
   "execution_count": null,
   "metadata": {},
   "outputs": [],
   "source": [
    "# Import the main analyzer\n",
    "import os\n",
    "\n",
    "import pandas as pd\n",
    "\n",
    "from src.main import ClauseMateAnalyzer\n",
    "from src.multi_file.multi_file_batch_processor import MultiFileBatchProcessor\n",
    "\n",
    "print(\"✅ ClauseMate modules imported successfully!\")"
   ]
  },
  {
   "cell_type": "markdown",
   "metadata": {},
   "source": [
    "## Single File Analysis\n",
    "\n",
    "Let's analyze a single TSV file to see how the tool works:"
   ]
  },
  {
   "cell_type": "code",
   "execution_count": null,
   "metadata": {},
   "outputs": [],
   "source": [
    "# Initialize the analyzer with adaptive parsing\n",
    "analyzer = ClauseMateAnalyzer(enable_adaptive_parsing=True)\n",
    "\n",
    "# Check if sample data exists\n",
    "sample_file = \"data/input/gotofiles/2.tsv\"\n",
    "if os.path.exists(sample_file):\n",
    "    print(f\"📁 Analyzing file: {sample_file}\")\n",
    "\n",
    "    # Perform analysis\n",
    "    relationships = analyzer.analyze_file(sample_file)\n",
    "\n",
    "    print(f\"🔍 Found {len(relationships)} clause mate relationships\")\n",
    "\n",
    "    # Display first few relationships\n",
    "    if relationships:\n",
    "        df = pd.DataFrame([rel.to_dict() for rel in relationships[:5]])\n",
    "        print(\"\\n📊 Sample relationships:\")\n",
    "        display(df)\n",
    "else:\n",
    "    print(\"⚠️ Sample data not available in this environment\")\n",
    "    print(\"💡 In a full setup, you would see detailed pronoun analysis results here\")"
   ]
  },
  {
   "cell_type": "markdown",
   "metadata": {},
   "source": [
    "## Multi-File Processing\n",
    "\n",
    "ClauseMate can process multiple files and resolve cross-chapter coreference chains:"
   ]
  },
  {
   "cell_type": "code",
   "execution_count": null,
   "metadata": {},
   "outputs": [],
   "source": [
    "# Initialize multi-file processor\n",
    "processor = MultiFileBatchProcessor()\n",
    "\n",
    "# Check if data directory exists\n",
    "data_dir = \"data/input/gotofiles\"\n",
    "if os.path.exists(data_dir):\n",
    "    print(f\"📁 Processing directory: {data_dir}\")\n",
    "\n",
    "    # Process all files\n",
    "    result = processor.process_files(data_dir)\n",
    "\n",
    "    print(f\"📊 Total relationships: {len(result.unified_relationships)}\")\n",
    "    print(f\"🔗 Cross-chapter chains: {len(result.cross_chapter_chains)}\")\n",
    "    print(f\"📚 Chapters processed: {len(result.chapter_info)}\")\n",
    "\n",
    "    # Show statistics\n",
    "    for chapter, info in result.chapter_info.items():\n",
    "        print(f\"  📖 {chapter}: {info['relationships']} relationships\")\n",
    "\n",
    "else:\n",
    "    print(\"⚠️ Data directory not available in this environment\")\n",
    "    print(\"💡 In a full setup, you would see unified multi-file analysis results here\")"
   ]
  },
  {
   "cell_type": "markdown",
   "metadata": {},
   "source": [
    "## Critical Pronouns Analyzed\n",
    "\n",
    "ClauseMate focuses on these German pronoun types:\n",
    "\n",
    "- **Third person personal**: er, sie, es, ihm, ihr, ihn, ihnen\n",
    "- **D-pronouns (pronominal)**: der, die, das, dem, den, deren, dessen, derer\n",
    "- **Demonstrative**: dieser, diese, dieses, diesem, diesen"
   ]
  },
  {
   "cell_type": "code",
   "execution_count": null,
   "metadata": {},
   "outputs": [],
   "source": [
    "# Show the pronoun configuration\n",
    "from src.config import CRITICAL_PRONOUNS\n",
    "\n",
    "print(\"🎯 Critical pronouns analyzed by ClauseMate:\")\n",
    "for category, pronouns in CRITICAL_PRONOUNS.items():\n",
    "    print(f\"\\n📝 {category.replace('_', ' ').title()}:\")\n",
    "    print(f\"   {', '.join(pronouns)}\")"
   ]
  },
  {
   "cell_type": "markdown",
   "metadata": {},
   "source": [
    "## Try It Yourself!\n",
    "\n",
    "This notebook provides a starting point for exploring ClauseMate's capabilities. You can:\n",
    "\n",
    "1. **Upload your own TSV files** in WebAnno TSV 3.3 format\n",
    "2. **Modify analysis parameters** in the code above\n",
    "3. **Explore the visualization scripts** in the `scripts/` directory\n",
    "4. **Run the full test suite** to understand the codebase\n",
    "\n",
    "For more information, see the [project documentation](../README.md)."
   ]
  }
 ],
 "metadata": {
  "kernelspec": {
   "display_name": "Python 3",
   "language": "python",
   "name": "python3"
  },
  "language_info": {
   "codemirror_mode": {
    "name": "ipython",
    "version": 3
   },
   "file_extension": ".py",
   "mimetype": "text/x-python",
   "name": "python",
   "nbconvert_exporter": "python",
   "pygments_lexer": "ipython3",
   "version": "3.11.0"
  }
 },
 "nbformat": 4,
 "nbformat_minor": 4
}
